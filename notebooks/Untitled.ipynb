{
 "cells": [
  {
   "cell_type": "code",
   "execution_count": 2,
   "id": "c7ca754c",
   "metadata": {},
   "outputs": [],
   "source": [
    "from deepface import DeepFace"
   ]
  },
  {
   "cell_type": "code",
   "execution_count": 2,
   "id": "4f1e4cee",
   "metadata": {},
   "outputs": [],
   "source": [
    "import os\n",
    "ROOT = os.getcwd()"
   ]
  },
  {
   "cell_type": "code",
   "execution_count": 8,
   "id": "e21d0d7c",
   "metadata": {},
   "outputs": [],
   "source": [
    "IMAGE_PATH = os.path.join(ROOT, r\"artifacts\\input\\download.jpg\")"
   ]
  },
  {
   "cell_type": "code",
   "execution_count": 3,
   "id": "e7583496",
   "metadata": {},
   "outputs": [],
   "source": [
    "IMAGE_PATH = os.path.join(r\"D:\\Deepface-embedding-generation\\artifacts\\input\\download.jpg\")"
   ]
  },
  {
   "cell_type": "code",
   "execution_count": 2,
   "id": "e7ecd352",
   "metadata": {},
   "outputs": [],
   "source": [
    "IMAGE_PATH = r\"D:\\Deepface-embedding-generation\\artifacts\\input\\download.jpg\""
   ]
  },
  {
   "cell_type": "code",
   "execution_count": 3,
   "id": "4754b8ce",
   "metadata": {},
   "outputs": [],
   "source": [
    "backends = [\n",
    "  'opencv', \n",
    "  'ssd', \n",
    "  'dlib', \n",
    "  'mtcnn', \n",
    "  'retinaface', \n",
    "  'mediapipe'\n",
    "]"
   ]
  },
  {
   "cell_type": "code",
   "execution_count": null,
   "id": "61485dca",
   "metadata": {},
   "outputs": [],
   "source": [
    "#face detection and alignment\n",
    "face = DeepFace.detectFace(img_path = IMAGE_PATH, \n",
    "        target_size = (224, 224), \n",
    "        detector_backend = backends[4]\n",
    ")"
   ]
  },
  {
   "cell_type": "code",
   "execution_count": 5,
   "id": "22d1bf18",
   "metadata": {},
   "outputs": [],
   "source": [
    "model = DeepFace.build_model(\"Facenet\")"
   ]
  },
  {
   "cell_type": "code",
   "execution_count": null,
   "id": "70d9dedf",
   "metadata": {},
   "outputs": [],
   "source": []
  },
  {
   "cell_type": "code",
   "execution_count": 5,
   "id": "941f5c01",
   "metadata": {},
   "outputs": [],
   "source": [
    "from deepface.detectors import FaceDetector"
   ]
  },
  {
   "cell_type": "code",
   "execution_count": 12,
   "id": "6bb7968d",
   "metadata": {},
   "outputs": [],
   "source": [
    "import cv2"
   ]
  },
  {
   "cell_type": "code",
   "execution_count": 13,
   "id": "21705241",
   "metadata": {},
   "outputs": [],
   "source": [
    "img = cv2.imread(r\"D:\\Deepface-embedding-generation\\artifacts\\input\\download.jpg\")"
   ]
  },
  {
   "cell_type": "code",
   "execution_count": 12,
   "id": "176fbbbc",
   "metadata": {},
   "outputs": [],
   "source": [
    "import numpy as np\n",
    "img = np.array(img)"
   ]
  },
  {
   "cell_type": "code",
   "execution_count": null,
   "id": "771cf83e",
   "metadata": {},
   "outputs": [],
   "source": [
    "face_detector = FaceDetector.build_model(\"mtcnn\")\n",
    "faces = FaceDetector.detect_faces(face_detector, detector_backend = 'mtcnn',img = img, align = True)"
   ]
  },
  {
   "cell_type": "code",
   "execution_count": 8,
   "id": "0146bb11",
   "metadata": {},
   "outputs": [],
   "source": [
    "face_detector = FaceDetector.build_model(\"mtcnn\")"
   ]
  },
  {
   "cell_type": "code",
   "execution_count": 9,
   "id": "4dbd53de",
   "metadata": {},
   "outputs": [
    {
     "data": {
      "text/plain": [
       "<mtcnn.mtcnn.MTCNN at 0x199788329a0>"
      ]
     },
     "execution_count": 9,
     "metadata": {},
     "output_type": "execute_result"
    }
   ],
   "source": [
    "face_detector"
   ]
  },
  {
   "cell_type": "code",
   "execution_count": null,
   "id": "3d5a5c3a",
   "metadata": {},
   "outputs": [],
   "source": [
    "faces = FaceDetector.detect_faces(face_detector, detector_backend = 'mtcnn',img = img, align = True)"
   ]
  },
  {
   "cell_type": "code",
   "execution_count": null,
   "id": "5ad0e907",
   "metadata": {},
   "outputs": [],
   "source": [
    "faces"
   ]
  },
  {
   "cell_type": "code",
   "execution_count": 4,
   "id": "33657c88",
   "metadata": {},
   "outputs": [],
   "source": [
    "backends = [\n",
    "  'opencv', \n",
    "  'ssd', \n",
    "  'dlib', \n",
    "  'mtcnn', \n",
    "  'retinaface', \n",
    "  'mediapipe'\n",
    "]"
   ]
  },
  {
   "cell_type": "code",
   "execution_count": null,
   "id": "9e1005aa",
   "metadata": {},
   "outputs": [
    {
     "name": "stdout",
     "output_type": "stream",
     "text": [
      "vgg_face_weights.h5 will be downloaded...\n"
     ]
    },
    {
     "name": "stderr",
     "output_type": "stream",
     "text": [
      "Downloading...\n",
      "From: https://github.com/serengil/deepface_models/releases/download/v1.0/vgg_face_weights.h5\n",
      "To: C:\\Users\\paulb\\.deepface\\weights\\vgg_face_weights.h5\n",
      "100%|███████████████████████████████████████████████████████████████████████████████████| 580M/580M [00:39<00:00, 14.5MB/s]\n"
     ]
    }
   ],
   "source": [
    "embedding = DeepFace.represent(img_path = \"download.jpg\", \n",
    "        detector_backend = backends[4]\n",
    ")"
   ]
  },
  {
   "cell_type": "code",
   "execution_count": 1,
   "id": "bf34b4cd",
   "metadata": {},
   "outputs": [
    {
     "ename": "NameError",
     "evalue": "name 'embedding' is not defined",
     "output_type": "error",
     "traceback": [
      "\u001b[1;31m---------------------------------------------------------------------------\u001b[0m",
      "\u001b[1;31mNameError\u001b[0m                                 Traceback (most recent call last)",
      "Input \u001b[1;32mIn [1]\u001b[0m, in \u001b[0;36m<cell line: 1>\u001b[1;34m()\u001b[0m\n\u001b[1;32m----> 1\u001b[0m \u001b[43membedding\u001b[49m\n",
      "\u001b[1;31mNameError\u001b[0m: name 'embedding' is not defined"
     ]
    }
   ],
   "source": [
    "embedding"
   ]
  },
  {
   "cell_type": "code",
   "execution_count": null,
   "id": "8ce4d09a",
   "metadata": {},
   "outputs": [],
   "source": [
    "from deepface import DeepFace\n",
    "backends = [\n",
    "  'opencv', \n",
    "  'ssd', \n",
    "  'dlib', \n",
    "  'mtcnn', \n",
    "  'retinaface', \n",
    "  'mediapipe'\n",
    "]\n",
    "\n",
    "face = DeepFace.detectFace(img_path = \"download.jpg\", \n",
    "        target_size = (224, 224), \n",
    "        detector_backend = backends[4]\n",
    ")"
   ]
  },
  {
   "cell_type": "code",
   "execution_count": null,
   "id": "676b70c1",
   "metadata": {},
   "outputs": [],
   "source": []
  }
 ],
 "metadata": {
  "kernelspec": {
   "display_name": "Python 3 (ipykernel)",
   "language": "python",
   "name": "python3"
  },
  "language_info": {
   "codemirror_mode": {
    "name": "ipython",
    "version": 3
   },
   "file_extension": ".py",
   "mimetype": "text/x-python",
   "name": "python",
   "nbconvert_exporter": "python",
   "pygments_lexer": "ipython3",
   "version": "3.8.13"
  }
 },
 "nbformat": 4,
 "nbformat_minor": 5
}
